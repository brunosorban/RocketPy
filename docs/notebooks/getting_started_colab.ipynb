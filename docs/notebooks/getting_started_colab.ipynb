{
  "nbformat": 4,
  "nbformat_minor": 0,
  "metadata": {
    "hide_input": false,
    "kernelspec": {
      "display_name": "Python 3",
      "language": "python",
      "name": "python3"
    },
    "language_info": {
      "codemirror_mode": {
        "name": "ipython",
        "version": 3
      },
      "file_extension": ".py",
      "mimetype": "text/x-python",
      "name": "python",
      "nbconvert_exporter": "python",
      "pygments_lexer": "ipython3",
      "version": "3.6.6"
    },
    "colab": {
      "name": "getting_started.ipynb",
      "provenance": [],
      "toc_visible": true
    }
  },
  "cells": [
    {
      "cell_type": "markdown",
      "metadata": {
        "id": "nvAT8wcRNVEk",
        "colab_type": "text"
      },
      "source": [
        "# Getting Started - RocketPy in Colab"
      ]
    },
    {
      "cell_type": "markdown",
      "metadata": {
        "id": "8gCWjpEyPNp1",
        "colab_type": "text"
      },
      "source": [
        "We start by setting up our environment. To run this notebook, we will need:\n",
        "\n",
        "\n",
        "*   RocketPy\n",
        "*   netCDF4 (to get weather forecasts)\n",
        "*   Data files (we will clone RocketPy's repository for these)\n",
        "\n",
        "Therefore, let's run the following lines of code:"
      ]
    },
    {
      "cell_type": "code",
      "metadata": {
        "id": "zwDDabtpNc6Z",
        "colab_type": "code",
        "colab": {}
      },
      "source": [
        "!pip install rocketpyalpha netCDF4\n",
        "!git clone https://github.com/giovaniceotto/RocketPy.git"
      ],
      "execution_count": 0,
      "outputs": []
    },
    {
      "cell_type": "code",
      "metadata": {
        "id": "pY5XGge5OoGJ",
        "colab_type": "code",
        "colab": {}
      },
      "source": [
        "import os\n",
        "os.chdir('RocketPy/docs/notebooks')"
      ],
      "execution_count": 0,
      "outputs": []
    },
    {
      "cell_type": "markdown",
      "metadata": {
        "id": "55zcnvqdNVEo",
        "colab_type": "text"
      },
      "source": [
        "Now we can start!\n",
        "\n",
        "Here we go through a simplified rocket trajectory simulation to get you started. Let's start by importing the rocketpy module."
      ]
    },
    {
      "cell_type": "code",
      "metadata": {
        "id": "XGK9M8ecNVEp",
        "colab_type": "code",
        "colab": {}
      },
      "source": [
        "from rocketpy import Environment, SolidMotor, Rocket, Flight"
      ],
      "execution_count": 0,
      "outputs": []
    },
    {
      "cell_type": "markdown",
      "metadata": {
        "id": "ImgkhEkZNVE8",
        "colab_type": "text"
      },
      "source": [
        "If you are using Jupyter Notebooks, it is recommended to run the following line to make matplotlib plots which will be shown later interactive and higher quality."
      ]
    },
    {
      "cell_type": "code",
      "metadata": {
        "id": "uRa566HoNVE9",
        "colab_type": "code",
        "colab": {}
      },
      "source": [
        "%config InlineBackend.figure_formats = ['svg']\n",
        "%matplotlib inline"
      ],
      "execution_count": 0,
      "outputs": []
    },
    {
      "cell_type": "markdown",
      "metadata": {
        "id": "sSeqramENVFB",
        "colab_type": "text"
      },
      "source": [
        "## Setting Up a Simulation"
      ]
    },
    {
      "cell_type": "markdown",
      "metadata": {
        "id": "Vm4ZHAnnNVFC",
        "colab_type": "text"
      },
      "source": [
        "### Creating an Environment for Spaceport America"
      ]
    },
    {
      "cell_type": "code",
      "metadata": {
        "id": "d7mooAZONVFD",
        "colab_type": "code",
        "colab": {}
      },
      "source": [
        "Env = Environment(\n",
        "    railLength=5.2,\n",
        "    latitude=32.990254,\n",
        "    longitude=-106.974998,\n",
        "    elevation=1400\n",
        ") "
      ],
      "execution_count": 0,
      "outputs": []
    },
    {
      "cell_type": "markdown",
      "metadata": {
        "id": "Fz8Ha6usNVFH",
        "colab_type": "text"
      },
      "source": [
        "To get weather data from the GFS forecast, available online, we run the following lines.\n",
        "\n",
        "First, we set tomorrow's date."
      ]
    },
    {
      "cell_type": "code",
      "metadata": {
        "id": "5kl-Je8dNVFI",
        "colab_type": "code",
        "colab": {}
      },
      "source": [
        "import datetime\n",
        "\n",
        "tomorrow = datetime.date.today() + datetime.timedelta(days=1)\n",
        "\n",
        "Env.setDate((tomorrow.year, tomorrow.month, tomorrow.day, 12)) # Hour given in UTC time"
      ],
      "execution_count": 0,
      "outputs": []
    },
    {
      "cell_type": "markdown",
      "metadata": {
        "id": "or5MLF9gNVFM",
        "colab_type": "text"
      },
      "source": [
        "Then, we tell Env to use a GFS forecast to get the atmospheric conditions for flight.\n",
        "\n",
        "Don't mind the warning, it just means that not all variables, such as wind speed or atmospheric temperature, are available at all altitudes given by the forecast."
      ]
    },
    {
      "cell_type": "code",
      "metadata": {
        "id": "g73fa7DWNVFN",
        "colab_type": "code",
        "colab": {}
      },
      "source": [
        "Env.setAtmosphericModel(type='Forecast', file='GFS')"
      ],
      "execution_count": 0,
      "outputs": []
    },
    {
      "cell_type": "markdown",
      "metadata": {
        "id": "wSnZQuRYNVFS",
        "colab_type": "text"
      },
      "source": [
        "We can see what the weather will look like by calling the info method!"
      ]
    },
    {
      "cell_type": "code",
      "metadata": {
        "id": "H_AMjVTjNVFT",
        "colab_type": "code",
        "colab": {}
      },
      "source": [
        "Env.info()"
      ],
      "execution_count": 0,
      "outputs": []
    },
    {
      "cell_type": "markdown",
      "metadata": {
        "id": "Aksbs-pMNVFW",
        "colab_type": "text"
      },
      "source": [
        "### Creating a Motor\n",
        "\n",
        "A solid rocket motor is used in this case. To create a motor, the SolidMotor class is used and the required arguments are given.\n",
        "\n",
        "The SolidMotor class requires the user to have a thrust curve ready. This can come either from a .eng file for a commercial motor, such as below, or a .csv file from a static test measurement.\n",
        "\n",
        "Besides the thrust curve, other parameters such as grain properties and nozzle dimensions must also be given."
      ]
    },
    {
      "cell_type": "code",
      "metadata": {
        "id": "Vx1dZObwNVFX",
        "colab_type": "code",
        "colab": {}
      },
      "source": [
        "Pro75M1670 = SolidMotor(\n",
        "    thrustSource=\"../../data/motors/Cesaroni_M1670.eng\",\n",
        "    burnOut=3.9,\n",
        "    grainNumber=5,\n",
        "    grainSeparation=5/1000,\n",
        "    grainDensity=1815,\n",
        "    grainOuterRadius=33/1000,\n",
        "    grainInitialInnerRadius=15/1000,\n",
        "    grainInitialHeight=120/1000,\n",
        "    nozzleRadius=33/1000,\n",
        "    throatRadius=11/1000,\n",
        "    interpolationMethod='linear'\n",
        ")"
      ],
      "execution_count": 0,
      "outputs": []
    },
    {
      "cell_type": "markdown",
      "metadata": {
        "id": "E1LJDIa0NVFa",
        "colab_type": "text"
      },
      "source": [
        "To see what our thrust curve looks like, along with other import properties, we invoke the info method yet again. You may try the allInfo method if you want more information all at once!"
      ]
    },
    {
      "cell_type": "code",
      "metadata": {
        "id": "vjyPT7GVNVFb",
        "colab_type": "code",
        "colab": {}
      },
      "source": [
        "Pro75M1670.info()"
      ],
      "execution_count": 0,
      "outputs": []
    },
    {
      "cell_type": "markdown",
      "metadata": {
        "id": "kN7y1EwLNVFf",
        "colab_type": "text"
      },
      "source": [
        "### Creating a Rocket"
      ]
    },
    {
      "cell_type": "markdown",
      "metadata": {
        "id": "_Ee-0vb5NVFg",
        "colab_type": "text"
      },
      "source": [
        "A rocket is composed of several components. Namely, we must have a motor (good thing we have the Pro75M1670 ready), a couple of aerodynamic surfaces (nose cone, fins and tail) and parachutes (if we are not launching a missile).\n",
        "\n",
        "Let's start by initializing our rocket, named Calisto, supplying it with the Pro75M1670 engine, entering its inertia properties, some dimensions and also its drag curves."
      ]
    },
    {
      "cell_type": "code",
      "metadata": {
        "id": "D1fyK8u_NVFh",
        "colab_type": "code",
        "colab": {}
      },
      "source": [
        "Calisto = Rocket(\n",
        "    motor=Pro75M1670,\n",
        "    radius=127/2000,\n",
        "    mass=19.197-2.956,\n",
        "    inertiaI=6.60,\n",
        "    inertiaZ=0.0351,\n",
        "    distanceRocketNozzle=-1.255,\n",
        "    distanceRocketPropellant=-0.85704,\n",
        "    powerOffDrag='../../data/calisto/powerOffDragCurve.csv',\n",
        "    powerOnDrag='../../data/calisto/powerOnDragCurve.csv'\n",
        ")\n",
        "\n",
        "Calisto.setRailButtons([0.2, -0.5])"
      ],
      "execution_count": 0,
      "outputs": []
    },
    {
      "cell_type": "markdown",
      "metadata": {
        "id": "CfOfqmroNVFk",
        "colab_type": "text"
      },
      "source": [
        "#### Adding Aerodynamic Surfaces"
      ]
    },
    {
      "cell_type": "markdown",
      "metadata": {
        "id": "LuUdEmWhNVFl",
        "colab_type": "text"
      },
      "source": [
        "Now we define the aerodynamic surfaces. They are really straight forward."
      ]
    },
    {
      "cell_type": "code",
      "metadata": {
        "id": "AQbv244VNVFm",
        "colab_type": "code",
        "colab": {}
      },
      "source": [
        "NoseCone = Calisto.addNose(length=0.55829, kind=\"vonKarman\", distanceToCM=0.71971)\n",
        "\n",
        "FinSet = Calisto.addFins(4, span=0.100, rootChord=0.120, tipChord=0.040, distanceToCM=-1.04956)\n",
        "\n",
        "Tail = Calisto.addTail(topRadius=0.0635, bottomRadius=0.0435, length=0.060, distanceToCM=-1.194656)"
      ],
      "execution_count": 0,
      "outputs": []
    },
    {
      "cell_type": "markdown",
      "metadata": {
        "id": "D8oKc7s2NVFp",
        "colab_type": "text"
      },
      "source": [
        "#### Adding Parachutes"
      ]
    },
    {
      "cell_type": "markdown",
      "metadata": {
        "id": "IxAX61ZENVFq",
        "colab_type": "text"
      },
      "source": [
        "Finally, we have parachutes! Calisto will have two parachutes, Drogue and Main.\n",
        "\n",
        "Both parachutes are activated by some special algorithm, which is usually really complex and a trade secret. Most algorithms are based on pressure sampling only, while some also use acceleration info.\n",
        "\n",
        "RocketPy allows you to define a trigger function which will decide when to activate the ejection event for each parachute. This trigger function is supplied with pressure measurement at a predefined sampling rate. This pressure signal is usually noisy, so artificial noise parameters can be given. Call help(Rocket.addParachute) for more details. Furthermore, the trigger function also recieves the complete state vector of the rocket, allowing us to use velocity, acceleration or even attitude to decide when the parachute event should be triggered.\n",
        "\n",
        "Here, we define our trigger functions rather simply using Python. However, you can call the exact code which will fly inside your rocket as well."
      ]
    },
    {
      "cell_type": "code",
      "metadata": {
        "id": "f0PmLcF8NVFr",
        "colab_type": "code",
        "colab": {}
      },
      "source": [
        "def drogueTrigger(p, y):\n",
        "    # p = pressure\n",
        "    # y = [x, y, z, vx, vy, vz, e0, e1, e2, e3, w1, w2, w3]\n",
        "    # activate drogue when vz < 0 m/s.\n",
        "    return True if y[5] < 0 else False\n",
        "\n",
        "def mainTrigger(p, y):\n",
        "    # p = pressure\n",
        "    # y = [x, y, z, vx, vy, vz, e0, e1, e2, e3, w1, w2, w3]\n",
        "    # activate main when vz < 0 m/s and z < 800 + 1400 m (+1400 due to surface elevation).\n",
        "    return True if y[5] < 0 and y[2] < 800+1400 else False\n",
        "\n",
        "Main = Calisto.addParachute('Main',\n",
        "                            CdS=10.0,\n",
        "                            trigger=mainTrigger, \n",
        "                            samplingRate=105,\n",
        "                            lag=1.5,\n",
        "                            noise=(0, 8.3, 0.5))\n",
        "\n",
        "Drogue = Calisto.addParachute('Drogue',\n",
        "                              CdS=1.0,\n",
        "                              trigger=drogueTrigger, \n",
        "                              samplingRate=105,\n",
        "                              lag=1.5,\n",
        "                              noise=(0, 8.3, 0.5))"
      ],
      "execution_count": 0,
      "outputs": []
    },
    {
      "cell_type": "markdown",
      "metadata": {
        "id": "xIoXe33FNVFv",
        "colab_type": "text"
      },
      "source": [
        "Just be careful if you run this last cell multiple times! If you do so, your rocket will end up with lots of parachutes which activate together, which may cause problems during the flight simulation. We advise you to re-run all cells which define our rocket before running this, preventing unwanted old parachutes. Alternatively, you can run the following lines to remove parachutes.\n",
        "\n",
        "```python\n",
        "Calisto.parachutes.remove(Drogue)\n",
        "Calisto.parachutes.remove(Main)\n",
        "```"
      ]
    },
    {
      "cell_type": "markdown",
      "metadata": {
        "id": "4PR0fgSbNVFw",
        "colab_type": "text"
      },
      "source": [
        "## Simulating a Flight\n",
        "\n",
        "Simulating a flight trajectory is as simples as initializing a Flight class object givin the rocket and environement set up above as inputs. The launch rail inclination and heading are also given here."
      ]
    },
    {
      "cell_type": "code",
      "metadata": {
        "id": "v__Ud2p2NVFx",
        "colab_type": "code",
        "colab": {}
      },
      "source": [
        "TestFlight = Flight(rocket=Calisto, environment=Env, inclination=85, heading=0)"
      ],
      "execution_count": 0,
      "outputs": []
    },
    {
      "cell_type": "markdown",
      "metadata": {
        "id": "8SjrGQqzNVF0",
        "colab_type": "text"
      },
      "source": [
        "## Analysing the Results\n",
        "\n",
        "RocketPy gives you many plots, thats for sure! They are divided into sections to keep them organized. Alternatively, see the Flight class documentation to see how to get plots for specific variables only, instead of all of them at once."
      ]
    },
    {
      "cell_type": "code",
      "metadata": {
        "scrolled": false,
        "id": "Hh4A_RQzNVF0",
        "colab_type": "code",
        "colab": {}
      },
      "source": [
        "TestFlight.allInfo()"
      ],
      "execution_count": 0,
      "outputs": []
    },
    {
      "cell_type": "markdown",
      "metadata": {
        "id": "Aun9D2OINVF4",
        "colab_type": "text"
      },
      "source": [
        "## Using Simulation for Design\n",
        "\n",
        "Here, we go through a couple of examples which make use of RockePy in cool ways to help us design our rocket."
      ]
    },
    {
      "cell_type": "markdown",
      "metadata": {
        "id": "gcT43lt2NVF5",
        "colab_type": "text"
      },
      "source": [
        "### Dynamic Stability Analysis"
      ]
    },
    {
      "cell_type": "markdown",
      "metadata": {
        "id": "tFd1yJujNVF6",
        "colab_type": "text"
      },
      "source": [
        "Ever wondered how static stability translates into dynamic stability? Different static margins result in different dynamic behaviour, which also depends on the rocket's rotational inertial.\n",
        "\n",
        "Let's make use of RocketPy's helper class called Function to explore how the dynamic stability of Calisto varies if we change the fins span by a certain factor."
      ]
    },
    {
      "cell_type": "code",
      "metadata": {
        "id": "ULLEtVz7NVF7",
        "colab_type": "code",
        "colab": {}
      },
      "source": [
        "# Helper class\n",
        "from rocketpy import Function\n",
        "\n",
        "# Prepare Rocket Class\n",
        "Calisto = Rocket(motor=Pro75M1670,\n",
        "                     radius=127/2000,\n",
        "                     mass=19.197-2.956,\n",
        "                     inertiaI=6.60,\n",
        "                     inertiaZ=0.0351,\n",
        "                     distanceRocketNozzle=-1.255,\n",
        "                     distanceRocketPropellant=-0.85704,\n",
        "                     powerOffDrag='../../data/calisto/powerOffDragCurve.csv',\n",
        "                     powerOnDrag='../../data/calisto/powerOnDragCurve.csv')\n",
        "Calisto.setRailButtons([0.2, -0.5])\n",
        "Nose = Calisto.addNose(length=0.55829, kind=\"vonKarman\", distanceToCM=0.71971)\n",
        "FinSet = Calisto.addFins(4, span=0.1, rootChord=0.120, tipChord=0.040, distanceToCM=-1.04956)\n",
        "Tail = Calisto.addTail(topRadius=0.0635, bottomRadius=0.0435, length=0.060, distanceToCM=-1.194656)\n",
        "\n",
        "# Prepare Environment Class\n",
        "Env = Environment(5.2, 9.8)\n",
        "Env.setAtmosphericModel(type='CostumAtmosphere', wind_v=-5)\n",
        "\n",
        "# Simulate Different Static Margins by Varying Fin Position\n",
        "simulation_results = []\n",
        "\n",
        "for factor in [0.5, 0.7, 0.9, 1.1, 1.3]:\n",
        "    # Modify rocket fin set by removing previous one and adding new one\n",
        "    Calisto.aerodynamicSurfaces.remove(FinSet)\n",
        "    FinSet = Calisto.addFins(4, span=0.1, rootChord=0.120, tipChord=0.040, distanceToCM=-1.04956*factor)\n",
        "    # Simulate\n",
        "    print('Simulating Rocket with Static Margin of {:1.3f}->{:1.3f} c'.format(Calisto.staticMargin(0), Calisto.staticMargin(Calisto.motor.burnOutTime)))\n",
        "    TestFlight = Flight(rocket=Calisto, environment=Env, inclination=90, heading=0, maxTimeStep=0.01, maxTime=5, terminateOnApogee=True, verbose=True)\n",
        "    # Post process flight data\n",
        "    TestFlight.postProcess()\n",
        "    # Store Results\n",
        "    staticMarginAtIginition = Calisto.staticMargin(0)\n",
        "    staticMarginAtOutOfRail = Calisto.staticMargin(TestFlight.outOfRailTime)\n",
        "    staticMarginAtSteadyState = Calisto.staticMargin(TestFlight.tFinal)\n",
        "    simulation_results += [(TestFlight.attitudeAngle, '{:1.2f} c | {:1.2f} c | {:1.2f} c'.format(staticMarginAtIginition, staticMarginAtOutOfRail, staticMarginAtSteadyState))]\n",
        "\n",
        "Function.comparePlots(simulation_results, lower=0, upper=1.5, xlabel='Time (s)', ylabel='Attitude Angle (deg)')"
      ],
      "execution_count": 0,
      "outputs": []
    },
    {
      "cell_type": "markdown",
      "metadata": {
        "id": "WHIeM9f3NVF_",
        "colab_type": "text"
      },
      "source": [
        "### Characteristic Frequency Calculation\n",
        "\n",
        "Here we analyse the characterist frequency of oscilation of our rocket just as it leaves the launch rail. Note that when we ran TestFlight.allInfo(), one of the plots already showed us the frequency spectrum of our flight. Here, however, we have more control of what we are plotting."
      ]
    },
    {
      "cell_type": "code",
      "metadata": {
        "id": "OJdN2XMANVGA",
        "colab_type": "code",
        "colab": {}
      },
      "source": [
        "import numpy as np\n",
        "import matplotlib.pyplot as plt\n",
        "\n",
        "Env = Environment(\n",
        "    railLength=5.2,\n",
        "    latitude=32.990254,\n",
        "    longitude=-106.974998,\n",
        "    elevation=1400\n",
        ") \n",
        "\n",
        "Env.setAtmosphericModel(type='CostumAtmosphere', wind_v=-5)\n",
        "\n",
        "# Prepare Motor\n",
        "Pro75M1670 = SolidMotor(\n",
        "    thrustSource=\"../../data/motors/Cesaroni_M1670.eng\",\n",
        "    burnOut=3.9,\n",
        "    grainNumber=5,\n",
        "    grainSeparation=5/1000,\n",
        "    grainDensity=1815,\n",
        "    grainOuterRadius=33/1000,\n",
        "    grainInitialInnerRadius=15/1000,\n",
        "    grainInitialHeight=120/1000,\n",
        "    nozzleRadius=33/1000,\n",
        "    throatRadius=11/1000,\n",
        "    interpolationMethod='linear'\n",
        ")\n",
        "\n",
        "# Prepare Rocket\n",
        "Calisto = Rocket(\n",
        "    motor=Pro75M1670,\n",
        "    radius=127/2000,\n",
        "    mass=19.197-2.956,\n",
        "    inertiaI=6.60,\n",
        "    inertiaZ=0.0351,\n",
        "    distanceRocketNozzle=-1.255,\n",
        "    distanceRocketPropellant=-0.85704,\n",
        "    powerOffDrag='../../data/calisto/powerOffDragCurve.csv',\n",
        "    powerOnDrag='../../data/calisto/powerOnDragCurve.csv'\n",
        ")\n",
        "\n",
        "Calisto.setRailButtons([0.2, -0.5])\n",
        "\n",
        "Nose = Calisto.addNose(length=0.55829, kind=\"vonKarman\", distanceToCM=0.71971)\n",
        "FinSet = Calisto.addFins(4, span=0.1, rootChord=0.120, tipChord=0.040, distanceToCM=-1.04956)\n",
        "Tail = Calisto.addTail(topRadius=0.0635, bottomRadius=0.0435, length=0.060, distanceToCM=-1.194656)\n",
        "\n",
        "# Simulate first 5 seconds of Flight\n",
        "TestFlight = Flight(rocket=Calisto, environment=Env, inclination=90, heading=0, maxTimeStep=0.01, maxTime=5)\n",
        "TestFlight.postProcess()\n",
        "\n",
        "# Perform a Fourier Analysis\n",
        "Fs = 100.0;  # sampling rate\n",
        "Ts = 1.0/Fs; # sampling interval\n",
        "t = np.arange(1,400,Ts) # time vector\n",
        "ff = 5;   # frequency of the signal\n",
        "y = TestFlight.attitudeAngle(t) - np.mean(TestFlight.attitudeAngle(t))\n",
        "n = len(y) # length of the signal\n",
        "k = np.arange(n)\n",
        "T = n/Fs\n",
        "frq = k/T # two sides frequency range\n",
        "frq = frq[range(n//2)] # one side frequency range\n",
        "Y = np.fft.fft(y)/n # fft computing and normalization\n",
        "Y = Y[range(n//2)]\n",
        "fig, ax = plt.subplots(2, 1)\n",
        "ax[0].plot(t,y)\n",
        "ax[0].set_xlabel('Time')\n",
        "ax[0].set_ylabel('Signal')\n",
        "ax[0].set_xlim((0, 5))\n",
        "ax[1].plot(frq,abs(Y),'r') # plotting the spectrum\n",
        "ax[1].set_xlabel('Freq (Hz)')\n",
        "ax[1].set_ylabel('|Y(freq)|')\n",
        "ax[1].set_xlim((0, 5))\n",
        "plt.subplots_adjust(hspace=0.5)\n",
        "plt.show()"
      ],
      "execution_count": 0,
      "outputs": []
    },
    {
      "cell_type": "markdown",
      "metadata": {
        "id": "qsXBVgGANVGD",
        "colab_type": "text"
      },
      "source": [
        "### Apogee as a Function of Mass\n",
        "\n",
        "This one is a classic one! We always need to know how much our rocket's apogee will change when our payload gets havier."
      ]
    },
    {
      "cell_type": "code",
      "metadata": {
        "id": "XAxTud5MNVGE",
        "colab_type": "code",
        "colab": {}
      },
      "source": [
        "def apogee(mass):\n",
        "    # Prepare Environment\n",
        "    Env = Environment(\n",
        "        railLength=5.2,\n",
        "        latitude=32.990254,\n",
        "        longitude=-106.974998,\n",
        "        elevation=1400,\n",
        "        date=(2018, 6, 20, 18)\n",
        "    )\n",
        "    \n",
        "    Env.setAtmosphericModel(type='CostumAtmosphere', wind_v=-5)\n",
        "\n",
        "    # Prepare Motor\n",
        "    Pro75M1670 = SolidMotor(\n",
        "        thrustSource=\"../../data/motors/Cesaroni_M1670.eng\",\n",
        "        burnOut=3.9,\n",
        "        grainNumber=5,\n",
        "        grainSeparation=5/1000,\n",
        "        grainDensity=1815,\n",
        "        grainOuterRadius=33/1000,\n",
        "        grainInitialInnerRadius=15/1000,\n",
        "        grainInitialHeight=120/1000,\n",
        "        nozzleRadius=33/1000,\n",
        "        throatRadius=11/1000,\n",
        "        interpolationMethod='linear'\n",
        "    )\n",
        "\n",
        "    # Prepare Rocket\n",
        "    Calisto = Rocket(\n",
        "        motor=Pro75M1670,\n",
        "        radius=127/2000,\n",
        "        mass=mass,\n",
        "        inertiaI=6.60,\n",
        "        inertiaZ=0.0351,\n",
        "        distanceRocketNozzle=-1.255,\n",
        "        distanceRocketPropellant=-0.85704,\n",
        "        powerOffDrag='../../data/calisto/powerOffDragCurve.csv',\n",
        "        powerOnDrag='../../data/calisto/powerOnDragCurve.csv'\n",
        "    )\n",
        "    \n",
        "    Calisto.setRailButtons([0.2, -0.5])\n",
        "    Nose = Calisto.addNose(length=0.55829, kind=\"vonKarman\", distanceToCM=0.71971)\n",
        "    FinSet = Calisto.addFins(4, span=0.1, rootChord=0.120, tipChord=0.040, distanceToCM=-1.04956)\n",
        "    Tail = Calisto.addTail(topRadius=0.0635, bottomRadius=0.0435, length=0.060, distanceToCM=-1.194656)\n",
        "\n",
        "    # Simulate Flight until Apogee\n",
        "    TestFlight = Flight(rocket=Calisto, environment=Env, inclination=85, heading=0, terminateOnApogee=True)\n",
        "    return TestFlight.apogee\n",
        "\n",
        "apogeebymass = Function(apogee, inputs=\"Mass (kg)\", outputs=\"Estimated Apogee (m)\")\n",
        "apogeebymass.plot(8,20,20)"
      ],
      "execution_count": 0,
      "outputs": []
    },
    {
      "cell_type": "markdown",
      "metadata": {
        "id": "yBMOVQnUNVGG",
        "colab_type": "text"
      },
      "source": [
        "### Out of Rail Speed as a Function of Mass\n",
        "\n",
        "To finish off, lets make a really important plot. Out of rail speed is the speed our rocket has when it is leaving the launch rail. This is crucial to make sure it can fly safely after leaving the rail. A common rule of thumb is that our rocket's out of rail speed should be 4 times the wind speed so that it does not stall and become unstable."
      ]
    },
    {
      "cell_type": "code",
      "metadata": {
        "id": "MJ7YRKt8NVGH",
        "colab_type": "code",
        "colab": {}
      },
      "source": [
        "def speed(mass):\n",
        "    # Prepare Environment\n",
        "    Env = Environment(\n",
        "        railLength=5.2,\n",
        "        latitude=32.990254,\n",
        "        longitude=-106.974998,\n",
        "        elevation=1400,\n",
        "        date=(2018, 6, 20, 18)\n",
        "    )\n",
        "    \n",
        "    Env.setAtmosphericModel(type='CostumAtmosphere', wind_v=-5)\n",
        "\n",
        "    # Prepare Motor\n",
        "    Pro75M1670 = SolidMotor(\n",
        "        thrustSource=\"../../data/motors/Cesaroni_M1670.eng\",\n",
        "        burnOut=3.9,\n",
        "        grainNumber=5,\n",
        "        grainSeparation=5/1000,\n",
        "        grainDensity=1815,\n",
        "        grainOuterRadius=33/1000,\n",
        "        grainInitialInnerRadius=15/1000,\n",
        "        grainInitialHeight=120/1000,\n",
        "        nozzleRadius=33/1000,\n",
        "        throatRadius=11/1000,\n",
        "        interpolationMethod='linear'\n",
        "    )\n",
        "\n",
        "    # Prepare Rocket\n",
        "    Calisto = Rocket(\n",
        "        motor=Pro75M1670,\n",
        "        radius=127/2000,\n",
        "        mass=mass,\n",
        "        inertiaI=6.60,\n",
        "        inertiaZ=0.0351,\n",
        "        distanceRocketNozzle=-1.255,\n",
        "        distanceRocketPropellant=-0.85704,\n",
        "        powerOffDrag='../../data/calisto/powerOffDragCurve.csv',\n",
        "        powerOnDrag='../../data/calisto/powerOnDragCurve.csv'\n",
        "    )\n",
        "    \n",
        "    Calisto.setRailButtons([0.2, -0.5])\n",
        "    Nose = Calisto.addNose(length=0.55829, kind=\"vonKarman\", distanceToCM=0.71971)\n",
        "    FinSet = Calisto.addFins(4, span=0.1, rootChord=0.120, tipChord=0.040, distanceToCM=-1.04956)\n",
        "    Tail = Calisto.addTail(topRadius=0.0635, bottomRadius=0.0435, length=0.060, distanceToCM=-1.194656)\n",
        "\n",
        "    # Simulate Flight until Apogee\n",
        "    TestFlight = Flight(rocket=Calisto, environment=Env, inclination=85, heading=0, terminateOnApogee=True)\n",
        "    return TestFlight.outOfRailVelocity\n",
        "\n",
        "speedbymass = Function(speed, inputs=\"Mass (kg)\", outputs=\"Out of Rail Speed (m/s)\")\n",
        "speedbymass.plot(8,20,20)"
      ],
      "execution_count": 0,
      "outputs": []
    }
  ]
}